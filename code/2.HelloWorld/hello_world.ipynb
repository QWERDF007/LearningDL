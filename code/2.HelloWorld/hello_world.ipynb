{
 "cells": [
  {
   "cell_type": "markdown",
   "id": "extended-baptist",
   "metadata": {},
   "source": [
    "# 解压训练/测试样本和标签文件"
   ]
  },
  {
   "cell_type": "code",
   "execution_count": 1,
   "id": "english-april",
   "metadata": {},
   "outputs": [],
   "source": [
    "import os\n",
    "import gzip\n",
    "\n",
    "mnist_dir = \"./data\" # 下载的MNIST的文件夹路径\n",
    "X_train_fpath = os.path.join(mnist_dir, \"train-images-idx3-ubyte.gz\")\n",
    "Y_train_fpath = os.path.join(mnist_dir, \"train-labels-idx1-ubyte.gz\")\n",
    "X_test_fpath = os.path.join(mnist_dir, \"t10k-images-idx3-ubyte.gz\")\n",
    "Y_test_fpath = os.path.join(mnist_dir, \"t10k-labels-idx1-ubyte.gz\")\n",
    "with gzip.open(X_train_fpath, 'rb') as f:\n",
    "    X_train_content = f.read()\n",
    "with gzip.open(Y_train_fpath, 'rb') as f:\n",
    "    Y_train_content = f.read()\n",
    "with gzip.open(X_test_fpath, 'rb') as f:\n",
    "    X_test_content = f.read()\n",
    "with gzip.open(Y_test_fpath, 'rb') as f:\n",
    "    Y_test_content = f.read()"
   ]
  },
  {
   "cell_type": "markdown",
   "id": "responsible-covering",
   "metadata": {},
   "source": [
    "# 获取训练样本和标签文件信息"
   ]
  },
  {
   "cell_type": "code",
   "execution_count": 2,
   "id": "latest-landing",
   "metadata": {},
   "outputs": [
    {
     "name": "stdout",
     "output_type": "stream",
     "text": [
      "47040016 60008\n",
      "00000803 2051 00000801 2049\n",
      "60000 60000\n",
      "28\n",
      "28\n",
      "784\n"
     ]
    }
   ],
   "source": [
    "X_train_bytes = len(X_train_content) # 解压后的训练图集文件大小\n",
    "X_train_magic_number = X_train_content[:4].hex() # magic number 0x00000803(2051)\n",
    "X_train_images = int(X_train_content[4:8].hex(), 16) # 图像数量 60,000\n",
    "Y_train_bytes = len(Y_train_content) # 解压后训练标签文件大小\n",
    "Y_train_magic_number = Y_train_content[:4].hex() # magic number 0x00000801(2049)\n",
    "Y_train_labels = int(Y_train_content[4:8].hex(), 16) # 标签数量 60,000，标签范围 [0,9]\n",
    "\n",
    "num_rows = int(X_train_content[8:12].hex(), 16) # 图像高 28\n",
    "num_cols = int(X_train_content[12:16].hex(),16) # 图像宽 28\n",
    "num_pixels = num_rows * num_cols # 图像大小 784\n",
    "\n",
    "print(X_train_bytes, Y_train_bytes)\n",
    "print(X_train_magic_number, int(X_train_magic_number,16), Y_train_magic_number, int(Y_train_magic_number,16))\n",
    "print(X_train_images, Y_train_labels)\n",
    "print(num_rows)\n",
    "print(num_cols)\n",
    "print(num_pixels)"
   ]
  },
  {
   "cell_type": "markdown",
   "id": "cathedral-fraction",
   "metadata": {},
   "source": [
    "# 查看训练样本和标签"
   ]
  },
  {
   "cell_type": "code",
   "execution_count": 3,
   "id": "thrown-stress",
   "metadata": {},
   "outputs": [
    {
     "name": "stdout",
     "output_type": "stream",
     "text": [
      "[35836, 4907, 1394, 21883, 10260, 13128, 27032, 8038]\n"
     ]
    },
    {
     "data": {
      "image/png": "[encoded data removed]",
      "text/plain": [
       "<Figure size 432x288 with 8 Axes>"
      ]
     },
     "metadata": {
      "needs_background": "light"
     },
     "output_type": "display_data"
    }
   ],
   "source": [
    "import random\n",
    "import numpy as np\n",
    "import matplotlib.pyplot as plt\n",
    "\n",
    "X_train = []\n",
    "Y_train = []\n",
    "\n",
    "for i in range(16, X_train_bytes, num_pixels):\n",
    "    # 读取784个字节并转换为numpy数组形式，再reshape为28*28\n",
    "    ndata = np.frombuffer(X_train_content[i:i+num_pixels], dtype=np.uint8).reshape(28,28,1)\n",
    "    X_train.append(ndata)\n",
    "    \n",
    "for i in range(8, Y_train_bytes):\n",
    "    Y_train.append(Y_train_content[i])\n",
    "\n",
    "X_train = np.array(X_train)\n",
    "Y_train = np.array(Y_train, dtype=np.int64)\n",
    "\n",
    "# 随机挑选8个看一下\n",
    "choices = random.sample(range(X_train_images), 8)\n",
    "labels = Y_train[choices]\n",
    "print(choices)\n",
    "for i in range(8):\n",
    "    plt.subplot(2, 4, i+1)\n",
    "    plt.imshow(X_train[choices[i]], cmap='gray')\n",
    "    plt.title(\"{i}\".format(i=labels[i]))\n",
    "plt.show()"
   ]
  },
  {
   "cell_type": "markdown",
   "id": "least-kingston",
   "metadata": {},
   "source": [
    "# 将训练集划分为训练集和验集"
   ]
  },
  {
   "cell_type": "code",
   "execution_count": 4,
   "id": "finished-french",
   "metadata": {},
   "outputs": [
    {
     "name": "stdout",
     "output_type": "stream",
     "text": [
      "(42000, 28, 28, 1) (18000, 28, 28, 1)\n",
      "(42000,) (18000,)\n"
     ]
    }
   ],
   "source": [
    "# !conda install scikit-learn # 报错，找不到sklearn模块时取消注释\n",
    "from sklearn.model_selection import train_test_split\n",
    "\n",
    "X_train, X_val, Y_train, Y_val = train_test_split(X_train, Y_train, test_size=0.3, random_state=123)\n",
    "print(X_train.shape, X_val.shape)\n",
    "print(Y_train.shape, Y_val.shape)"
   ]
  },
  {
   "cell_type": "markdown",
   "id": "universal-continent",
   "metadata": {},
   "source": [
    "# 定义网络"
   ]
  },
  {
   "cell_type": "code",
   "execution_count": 5,
   "id": "peaceful-cartridge",
   "metadata": {},
   "outputs": [
    {
     "name": "stdout",
     "output_type": "stream",
     "text": [
      "Net(\n",
      "  (conv1): Conv2d(1, 32, kernel_size=(3, 3), stride=(1, 1))\n",
      "  (conv2): Conv2d(32, 64, kernel_size=(3, 3), stride=(1, 1))\n",
      "  (fc1): Linear(in_features=9216, out_features=128, bias=True)\n",
      "  (fc2): Linear(in_features=128, out_features=10, bias=True)\n",
      ")\n"
     ]
    }
   ],
   "source": [
    "import torch\n",
    "import torch.nn as nn\n",
    "import torch.nn.functional as F\n",
    "\n",
    "class Net(nn.Module):\n",
    "    def __init__(self):\n",
    "        super().__init__()\n",
    "        self.conv1 = nn.Conv2d(1, 32, 3, 1)\n",
    "        self.conv2 = nn.Conv2d(32, 64, 3, 1)\n",
    "        self.fc1 = nn.Linear(64*12*12, 128)\n",
    "        self.fc2 = nn.Linear(128, 10)\n",
    "        \n",
    "    def forward(self, x):\n",
    "        x = F.relu(self.conv1(x))\n",
    "        x = F.relu(self.conv2(x))\n",
    "        x = F.max_pool2d(x, (2,2))\n",
    "        x = nn.Dropout(0.25)(x)\n",
    "        x = x.view(-1, self.num_flat_features(x))\n",
    "        x = F.relu(self.fc1(x))\n",
    "        x = nn.Dropout(0.5)(x)\n",
    "        x = F.relu(self.fc2(x))\n",
    "        return x\n",
    "        \n",
    "    def num_flat_features(self, x):\n",
    "        size = x.size()[1:]  # all dimensions except the batch dimension\n",
    "        num_features = 1\n",
    "        for s in size:\n",
    "            num_features *= s\n",
    "        return num_features\n",
    "    \n",
    "net = Net()\n",
    "print(net)"
   ]
  },
  {
   "cell_type": "markdown",
   "id": "convertible-differential",
   "metadata": {},
   "source": [
    "# 定义数据集\n",
    "https://pytorch.org/tutorials/beginner/basics/data_tutorial.html?highlight=dataset"
   ]
  },
  {
   "cell_type": "code",
   "execution_count": 6,
   "id": "union-instruction",
   "metadata": {},
   "outputs": [],
   "source": [
    "from torch.utils.data import Dataset, DataLoader\n",
    "from torchvision import transforms\n",
    "\n",
    "\n",
    "class MyDataset(Dataset):\n",
    "    def __init__(self, X, Y, transform=None, target_transform=None):\n",
    "        self.X = X\n",
    "        self.Y = Y\n",
    "        self.transform = transform\n",
    "        self.target_transform = target_transform\n",
    "        \n",
    "    def __len__(self):\n",
    "        return len(self.X)\n",
    "    \n",
    "    def __getitem__(self, idx):\n",
    "        X = self.X[idx]\n",
    "        Y = self.Y[idx]\n",
    "        if self.transform:\n",
    "            X = self.transform(X)\n",
    "        if self.target_transform:\n",
    "            Y = self.target_transform(Y)\n",
    "        return X, Y\n",
    "\n",
    "transform = transforms.ToTensor()\n",
    "\n",
    "datasets = {\n",
    "    'train': MyDataset(X_train, Y_train, transform),\n",
    "    'val': MyDataset(X_val, Y_val, transform)\n",
    "}\n",
    "\n",
    "dataset_sizes = {\n",
    "    'train': len(datasets['train']),\n",
    "    'val': len(datasets['val'])\n",
    "}\n",
    "\n",
    "batch_size = 128\n",
    "\n",
    "dataloaders = {\n",
    "    'train': DataLoader(datasets['train'], batch_size=batch_size, shuffle=True),\n",
    "    'val': DataLoader(datasets['val'], batch_size=batch_size, shuffle=False)\n",
    "}"
   ]
  },
  {
   "cell_type": "markdown",
   "id": "authentic-adapter",
   "metadata": {},
   "source": [
    "# 训练\n",
    "https://pytorch.org/tutorials/beginner/transfer_learning_tutorial.html"
   ]
  },
  {
   "cell_type": "code",
   "execution_count": 7,
   "id": "instrumental-anderson",
   "metadata": {},
   "outputs": [
    {
     "name": "stdout",
     "output_type": "stream",
     "text": [
      "Epoch 0/9\n",
      "----------\n",
      "train Loss: 0.3753 Acc: 0.8850\n",
      "val Loss: 0.1623 Acc: 0.9538\n",
      "\n",
      "Epoch 1/9\n",
      "----------\n",
      "train Loss: 0.1269 Acc: 0.9625\n",
      "val Loss: 0.1113 Acc: 0.9677\n",
      "\n",
      "Epoch 2/9\n",
      "----------\n",
      "train Loss: 0.0931 Acc: 0.9720\n",
      "val Loss: 0.0959 Acc: 0.9723\n",
      "\n",
      "Epoch 3/9\n",
      "----------\n",
      "train Loss: 0.0738 Acc: 0.9775\n",
      "val Loss: 0.0927 Acc: 0.9734\n",
      "\n",
      "Epoch 4/9\n",
      "----------\n",
      "train Loss: 0.0637 Acc: 0.9815\n",
      "val Loss: 0.0772 Acc: 0.9782\n",
      "\n",
      "Epoch 5/9\n",
      "----------\n",
      "train Loss: 0.0573 Acc: 0.9827\n",
      "val Loss: 0.0752 Acc: 0.9778\n",
      "\n",
      "Epoch 6/9\n",
      "----------\n",
      "train Loss: 0.0502 Acc: 0.9846\n",
      "val Loss: 0.0767 Acc: 0.9777\n",
      "\n",
      "Epoch 7/9\n",
      "----------\n",
      "train Loss: 0.0439 Acc: 0.9861\n",
      "val Loss: 0.0747 Acc: 0.9795\n",
      "\n",
      "Epoch 8/9\n",
      "----------\n",
      "train Loss: 0.0426 Acc: 0.9862\n",
      "val Loss: 0.0737 Acc: 0.9796\n",
      "\n",
      "Epoch 9/9\n",
      "----------\n",
      "train Loss: 0.0375 Acc: 0.9883\n",
      "val Loss: 0.0735 Acc: 0.9799\n",
      "\n",
      "Training complete in 0m 45s\n",
      "Best val Acc: 0.979889\n"
     ]
    }
   ],
   "source": [
    "import time\n",
    "import copy\n",
    "from torch.optim import Adam, lr_scheduler\n",
    "\n",
    "os.environ['CUDA_LAUNCH_BLOCKING'] = '1'\n",
    "device = torch.device(\"cuda:0\" if torch.cuda.is_available() else \"cpu\")\n",
    "model = net.to(device)\n",
    "criterion = nn.CrossEntropyLoss()\n",
    "optimizer = Adam(model.parameters(), lr=1e-3)\n",
    "epochs = 10\n",
    "\n",
    "since = time.time()\n",
    "best_model_wts = copy.deepcopy(model.state_dict())\n",
    "best_acc = 0.0\n",
    "for epoch in range(epochs):\n",
    "    print('Epoch {}/{}'.format(epoch, epochs - 1))\n",
    "    print('-' * 10)\n",
    "\n",
    "    for phase in ['train', 'val']:\n",
    "        if phase == 'train':\n",
    "            model.train()\n",
    "        else:\n",
    "            model.eval()\n",
    "\n",
    "        running_loss = 0.0\n",
    "        running_corrects = 0\n",
    "\n",
    "        for inputs, labels in dataloaders[phase]:\n",
    "            inputs = inputs.to(device)\n",
    "            labels = labels.to(device)\n",
    "\n",
    "            optimizer.zero_grad()\n",
    "\n",
    "            # forward\n",
    "            with torch.set_grad_enabled(phase == 'train'):\n",
    "                outputs = model(inputs)\n",
    "                _, preds = torch.max(outputs, 1)\n",
    "                loss = criterion(outputs, labels)\n",
    "\n",
    "                # backward\n",
    "                if phase == 'train':\n",
    "                    loss.backward()\n",
    "                    optimizer.step()\n",
    "            # statistics\n",
    "            running_loss += loss.item() * inputs.size(0)\n",
    "            running_corrects += torch.sum(preds == labels.data)\n",
    "\n",
    "        epoch_loss = running_loss / dataset_sizes[phase]\n",
    "        epoch_acc = running_corrects.double() / dataset_sizes[phase]\n",
    "        print('{} Loss: {:.4f} Acc: {:.4f}'.format(phase, epoch_loss, epoch_acc))\n",
    "        if phase == 'val' and epoch_acc > best_acc:\n",
    "            best_acc = epoch_acc\n",
    "            best_model_wts = copy.deepcopy(model.state_dict())\n",
    "    print()\n",
    "time_elapsed = time.time() - since\n",
    "print('Training complete in {:.0f}m {:.0f}s'.format(time_elapsed // 60, time_elapsed % 60))\n",
    "print('Best val Acc: {:4f}'.format(best_acc))"
   ]
  },
  {
   "cell_type": "markdown",
   "id": "brutal-functionality",
   "metadata": {},
   "source": [
    "# 测试"
   ]
  },
  {
   "cell_type": "code",
   "execution_count": 44,
   "id": "coated-issue",
   "metadata": {},
   "outputs": [
    {
     "name": "stdout",
     "output_type": "stream",
     "text": [
      "Test Acc: 0.9830\n"
     ]
    }
   ],
   "source": [
    "X_test_bytes = len(X_test_content)\n",
    "Y_test_bytes = len(Y_test_content)\n",
    "\n",
    "X_test = []\n",
    "Y_test = []\n",
    "\n",
    "for i in range(16, X_test_bytes, num_pixels):\n",
    "    ndata = np.frombuffer(X_test_content[i:i+num_pixels], dtype=np.uint8).reshape(28,28,1)\n",
    "    X_test.append(ndata)\n",
    "    \n",
    "for i in range(8, Y_test_bytes):\n",
    "    Y_test.append(Y_test_content[i])\n",
    "\n",
    "X_test = np.array(X_test)\n",
    "Y_test = np.array(Y_test, dtype=np.int64)\n",
    "\n",
    "testset = MyDataset(X_test, Y_test, transform)\n",
    "test_dataloader = DataLoader(testset, batch_size=batch_size, shuffle=False)\n",
    "total = len(testset)\n",
    "corrects = 0\n",
    "\n",
    "# 读取最佳权重\n",
    "model.load_state_dict(best_model_wts)\n",
    "model.eval()\n",
    "\n",
    "with torch.no_grad():\n",
    "    for inputs, labels in test_dataloader:\n",
    "        inputs = inputs.to(device)\n",
    "        labels = labels.to(device)\n",
    "        outputs = model(inputs)\n",
    "        _, preds = torch.max(outputs, 1)\n",
    "        corrects += torch.sum(preds == labels.data)\n",
    "print(\"Test Acc: {:.4f}\".format(corrects.double() / total))"
   ]
  },
  {
   "cell_type": "markdown",
   "id": "specified-calibration",
   "metadata": {},
   "source": [
    "# 保存模型"
   ]
  },
  {
   "cell_type": "code",
   "execution_count": 45,
   "id": "false-potential",
   "metadata": {},
   "outputs": [],
   "source": [
    "path = \"mnist.pt\"\n",
    "torch.save(best_model_wts, path)"
   ]
  }
 ],
 "metadata": {
  "kernelspec": {
   "display_name": "Python 3",
   "language": "python",
   "name": "python3"
  },
  "language_info": {
   "codemirror_mode": {
    "name": "ipython",
    "version": 3
   },
   "file_extension": ".py",
   "mimetype": "text/x-python",
   "name": "python",
   "nbconvert_exporter": "python",
   "pygments_lexer": "ipython3",
   "version": "3.8.8"
  }
 },
 "nbformat": 4,
 "nbformat_minor": 5
}
